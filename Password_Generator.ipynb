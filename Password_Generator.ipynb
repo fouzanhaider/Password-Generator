{
  "nbformat": 4,
  "nbformat_minor": 0,
  "metadata": {
    "colab": {
      "provenance": [],
      "authorship_tag": "ABX9TyOU8Wk+AtQxPo2bgrOs58kh",
      "include_colab_link": true
    },
    "kernelspec": {
      "name": "python3",
      "display_name": "Python 3"
    },
    "language_info": {
      "name": "python"
    }
  },
  "cells": [
    {
      "cell_type": "markdown",
      "metadata": {
        "id": "view-in-github",
        "colab_type": "text"
      },
      "source": [
        "<a href=\"https://colab.research.google.com/github/fouzanhaider/Password-Generator/blob/main/Password_Generator.ipynb\" target=\"_parent\"><img src=\"https://colab.research.google.com/assets/colab-badge.svg\" alt=\"Open In Colab\"/></a>"
      ]
    },
    {
      "cell_type": "code",
      "execution_count": 1,
      "metadata": {
        "colab": {
          "base_uri": "https://localhost:8080/"
        },
        "id": "wVGUSR9nvIFp",
        "outputId": "ed4bde30-864f-41bf-e4d2-febb2d2cbf7f"
      },
      "outputs": [
        {
          "output_type": "stream",
          "name": "stdout",
          "text": [
            "Welcome to the Enhanced Password Generator!\n",
            "Enter the desired length of the password (minimum 8 characters): 6\n",
            "Password length should be at least 8 characters. Please try again.\n",
            "Enter the desired length of the password (minimum 8 characters): 8\n",
            "\n",
            "Your generated password is: 7sT-5u(\"\n",
            "\n",
            "Do you want to generate another password? (yes/no): yes\n",
            "Enter the desired length of the password (minimum 8 characters): 10\n",
            "\n",
            "Your generated password is: wk'3sKOJ0z\n",
            "\n",
            "Do you want to generate another password? (yes/no): no\n",
            "\n",
            "Thank you for using the Enhanced Password Generator!\n"
          ]
        }
      ],
      "source": [
        "import secrets\n",
        "import string\n",
        "\n",
        "def generate_password(length):\n",
        "    # Define the character sets to use\n",
        "    all_chars = string.ascii_letters + string.digits + string.punctuation\n",
        "\n",
        "    # Ensure at least one character from each category: lowercase, uppercase, digit, special character\n",
        "    password = [\n",
        "        secrets.choice(string.ascii_lowercase),\n",
        "        secrets.choice(string.ascii_uppercase),\n",
        "        secrets.choice(string.digits),\n",
        "        secrets.choice(string.punctuation)\n",
        "    ]\n",
        "\n",
        "    # Fill the rest of the password length with random characters\n",
        "    password += [secrets.choice(all_chars) for _ in range(length - 4)]\n",
        "\n",
        "    # Shuffle the password list to ensure randomness\n",
        "    secrets.SystemRandom().shuffle(password)\n",
        "\n",
        "    return ''.join(password)\n",
        "\n",
        "def main():\n",
        "    print(\"Welcome to the Enhanced Password Generator!\")\n",
        "\n",
        "    while True:\n",
        "        try:\n",
        "            length = int(input(\"Enter the desired length of the password (minimum 8 characters): \"))\n",
        "        except ValueError:\n",
        "            print(\"Invalid input. Please enter a valid number for length.\")\n",
        "            continue\n",
        "\n",
        "        if length < 8:\n",
        "            print(\"Password length should be at least 8 characters. Please try again.\")\n",
        "            continue\n",
        "\n",
        "        password = generate_password(length)\n",
        "\n",
        "        if password:\n",
        "            print(f\"\\nYour generated password is: {password}\")\n",
        "\n",
        "        cont = input(\"\\nDo you want to generate another password? (yes/no): \").strip().lower()\n",
        "        if cont != 'yes':\n",
        "            print(\"\\nThank you for using the Enhanced Password Generator!\")\n",
        "            break\n",
        "\n",
        "main()\n"
      ]
    }
  ]
}